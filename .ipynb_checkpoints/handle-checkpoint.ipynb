{
 "cells": [
  {
   "cell_type": "code",
   "execution_count": 1,
   "metadata": {},
   "outputs": [],
   "source": [
    "import pandas as pd\n",
    "import numpy as np\n",
    "import matplotlib.pyplot as plt\n",
    "import seaborn as sns\n",
    "import os\n",
    "import warnings\n",
    "warnings.filterwarnings(\"ignore\") "
   ]
  },
  {
   "cell_type": "code",
   "execution_count": 2,
   "metadata": {},
   "outputs": [],
   "source": [
    "def ConnectToDataFolder(FolderPath):\n",
    "  print(\"=\" * 80, \"- Begin: ConnectToDataFolder\")\n",
    "\n",
    "  if (os.path.isdir(FolderPath)):\n",
    "    os.chdir(FolderPath)\n",
    "    print(\"List of Data in the Folder :\")\n",
    "    display(os.listdir())\n",
    "  else:\n",
    "    print(f\"{FolderPath} is not correct, please check the folder again\")\n",
    "\n",
    "  print(\"=\" * 80, \"- Finish: ConnectToDataFolder\")"
   ]
  },
  {
   "cell_type": "code",
   "execution_count": 3,
   "metadata": {},
   "outputs": [],
   "source": [
    "def GetSubFiles(dir, ExtensionList=[]):\n",
    "    print(\"=\" * 80, \"- Begin: GetSubFiles\")\n",
    "\n",
    "    \"Get a list of immediate subfiles\"\n",
    "    all_names = next(os.walk(dir))[2]\n",
    "    subfile_names = []\n",
    "    if (len(ExtensionList) > 0):\n",
    "      for filename in all_names:\n",
    "        fname, fextension = os.path.splitext(filename)\n",
    "        if any(ext in fextension for ext in ExtensionList):\n",
    "          subfile_names.append(dir + \"/\" + filename)\n",
    "    else:\n",
    "      subfile_names = [dir + \"/\" + x for x in all_names]\n",
    "\n",
    "    print(f\"There are {len(subfile_names)} files are found\")\n",
    "    subfile_names.sort()\n",
    "    print(\"Here is some samples :\")\n",
    "    [print(x) for x in subfile_names[0: min(len(subfile_names), 5)]]\n",
    "\n",
    "    print(\"=\" * 80, \"- End: GetSubFiles\")\n",
    "    return subfile_names\n"
   ]
  },
  {
   "cell_type": "code",
   "execution_count": 4,
   "metadata": {},
   "outputs": [],
   "source": [
    "import matplotlib.gridspec as gridspec\n",
    "\n",
    "\n",
    "def ShowImage(ImageList, nRows=1, nCols=2, ImageTitleList=[]):\n",
    "    gs = gridspec.GridSpec(nRows, nCols)\n",
    "    plt.figure(figsize=(20, 20))\n",
    "    for i in range(len(ImageList)):\n",
    "        ax = plt.subplot(gs[i])\n",
    "        ax.set_xticklabels([])\n",
    "        ax.set_yticklabels([])\n",
    "        ax.set_aspect('equal')\n",
    "\n",
    "        plt.subplot(nRows, nCols, i+1)\n",
    "\n",
    "        image = ImageList[i].copy()\n",
    "        if (len(image.shape) < 3):\n",
    "            plt.imshow(image, plt.cm.gray)\n",
    "        else:\n",
    "            plt.imshow(image)\n",
    "        if (len(ImageTitleList) > 0):\n",
    "          plt.title(\"Image \" + str(ImageTitleList[i]))\n",
    "        else:\n",
    "          plt.title(\"Image \" + str(i))\n",
    "\n",
    "        plt.axis('off')\n",
    "\n",
    "    plt.show()"
   ]
  },
  {
   "cell_type": "code",
   "execution_count": null,
   "metadata": {},
   "outputs": [],
   "source": []
  }
 ],
 "metadata": {
  "kernelspec": {
   "display_name": "Python 3",
   "language": "python",
   "name": "python3"
  },
  "language_info": {
   "codemirror_mode": {
    "name": "ipython",
    "version": 3
   },
   "file_extension": ".py",
   "mimetype": "text/x-python",
   "name": "python",
   "nbconvert_exporter": "python",
   "pygments_lexer": "ipython3",
   "version": "3.10.9"
  },
  "orig_nbformat": 4
 },
 "nbformat": 4,
 "nbformat_minor": 2
}
